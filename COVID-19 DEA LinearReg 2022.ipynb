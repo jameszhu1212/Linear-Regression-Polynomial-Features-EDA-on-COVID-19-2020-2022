{
 "cells": [
  {
   "cell_type": "code",
   "execution_count": 2,
   "id": "b05422ab",
   "metadata": {},
   "outputs": [],
   "source": [
    "import pandas as pd\n",
    "import numpy as np\n",
    "import matplotlib as mp\n",
    "import matplotlib.pyplot as plt\n",
    "import seaborn as sns\n",
    "%matplotlib inline"
   ]
  },
  {
   "cell_type": "code",
   "execution_count": 3,
   "id": "9065dee4",
   "metadata": {},
   "outputs": [
    {
     "data": {
      "text/html": [
       "<div>\n",
       "<style scoped>\n",
       "    .dataframe tbody tr th:only-of-type {\n",
       "        vertical-align: middle;\n",
       "    }\n",
       "\n",
       "    .dataframe tbody tr th {\n",
       "        vertical-align: top;\n",
       "    }\n",
       "\n",
       "    .dataframe thead th {\n",
       "        text-align: right;\n",
       "    }\n",
       "</style>\n",
       "<table border=\"1\" class=\"dataframe\">\n",
       "  <thead>\n",
       "    <tr style=\"text-align: right;\">\n",
       "      <th></th>\n",
       "      <th>date</th>\n",
       "      <th>state</th>\n",
       "      <th>cases</th>\n",
       "      <th>deaths</th>\n",
       "    </tr>\n",
       "  </thead>\n",
       "  <tbody>\n",
       "    <tr>\n",
       "      <th>0</th>\n",
       "      <td>2020-01-21</td>\n",
       "      <td>Washington</td>\n",
       "      <td>1</td>\n",
       "      <td>0.0</td>\n",
       "    </tr>\n",
       "    <tr>\n",
       "      <th>1</th>\n",
       "      <td>2020-01-22</td>\n",
       "      <td>Washington</td>\n",
       "      <td>1</td>\n",
       "      <td>0.0</td>\n",
       "    </tr>\n",
       "    <tr>\n",
       "      <th>2</th>\n",
       "      <td>2020-01-23</td>\n",
       "      <td>Washington</td>\n",
       "      <td>1</td>\n",
       "      <td>0.0</td>\n",
       "    </tr>\n",
       "    <tr>\n",
       "      <th>3</th>\n",
       "      <td>2020-01-24</td>\n",
       "      <td>Illinois</td>\n",
       "      <td>1</td>\n",
       "      <td>0.0</td>\n",
       "    </tr>\n",
       "    <tr>\n",
       "      <th>4</th>\n",
       "      <td>2020-01-24</td>\n",
       "      <td>Washington</td>\n",
       "      <td>1</td>\n",
       "      <td>0.0</td>\n",
       "    </tr>\n",
       "  </tbody>\n",
       "</table>\n",
       "</div>"
      ],
      "text/plain": [
       "         date       state  cases  deaths\n",
       "0  2020-01-21  Washington      1     0.0\n",
       "1  2020-01-22  Washington      1     0.0\n",
       "2  2020-01-23  Washington      1     0.0\n",
       "3  2020-01-24    Illinois      1     0.0\n",
       "4  2020-01-24  Washington      1     0.0"
      ]
     },
     "execution_count": 3,
     "metadata": {},
     "output_type": "execute_result"
    }
   ],
   "source": [
    "covid_data = pd.read_csv('https://raw.githubusercontent.com/nytimes/covid-19-data/master/us-counties.csv')\n",
    "covid_data.drop(columns = ['fips', 'county'], inplace = True) # Remove columns fips and county  \n",
    "\n",
    "covid_data.head()"
   ]
  },
  {
   "cell_type": "code",
   "execution_count": 4,
   "id": "41948fd2",
   "metadata": {},
   "outputs": [
    {
     "data": {
      "text/html": [
       "<div>\n",
       "<style scoped>\n",
       "    .dataframe tbody tr th:only-of-type {\n",
       "        vertical-align: middle;\n",
       "    }\n",
       "\n",
       "    .dataframe tbody tr th {\n",
       "        vertical-align: top;\n",
       "    }\n",
       "\n",
       "    .dataframe thead th {\n",
       "        text-align: right;\n",
       "    }\n",
       "</style>\n",
       "<table border=\"1\" class=\"dataframe\">\n",
       "  <thead>\n",
       "    <tr style=\"text-align: right;\">\n",
       "      <th></th>\n",
       "      <th>date</th>\n",
       "      <th>state</th>\n",
       "      <th>cases</th>\n",
       "      <th>deaths</th>\n",
       "    </tr>\n",
       "  </thead>\n",
       "  <tbody>\n",
       "    <tr>\n",
       "      <th>2070110</th>\n",
       "      <td>2022-01-01</td>\n",
       "      <td>Alabama</td>\n",
       "      <td>11018</td>\n",
       "      <td>160.0</td>\n",
       "    </tr>\n",
       "    <tr>\n",
       "      <th>2070111</th>\n",
       "      <td>2022-01-01</td>\n",
       "      <td>Alabama</td>\n",
       "      <td>39911</td>\n",
       "      <td>593.0</td>\n",
       "    </tr>\n",
       "    <tr>\n",
       "      <th>2070112</th>\n",
       "      <td>2022-01-01</td>\n",
       "      <td>Alabama</td>\n",
       "      <td>3860</td>\n",
       "      <td>81.0</td>\n",
       "    </tr>\n",
       "    <tr>\n",
       "      <th>2070113</th>\n",
       "      <td>2022-01-01</td>\n",
       "      <td>Alabama</td>\n",
       "      <td>4533</td>\n",
       "      <td>95.0</td>\n",
       "    </tr>\n",
       "    <tr>\n",
       "      <th>2070114</th>\n",
       "      <td>2022-01-01</td>\n",
       "      <td>Alabama</td>\n",
       "      <td>11256</td>\n",
       "      <td>198.0</td>\n",
       "    </tr>\n",
       "  </tbody>\n",
       "</table>\n",
       "</div>"
      ],
      "text/plain": [
       "               date    state  cases  deaths\n",
       "2070110  2022-01-01  Alabama  11018   160.0\n",
       "2070111  2022-01-01  Alabama  39911   593.0\n",
       "2070112  2022-01-01  Alabama   3860    81.0\n",
       "2070113  2022-01-01  Alabama   4533    95.0\n",
       "2070114  2022-01-01  Alabama  11256   198.0"
      ]
     },
     "execution_count": 4,
     "metadata": {},
     "output_type": "execute_result"
    }
   ],
   "source": [
    "# RETRIEVE COVID-19 DATA FROM 2022-01-01 to 2022-12-31\n",
    "covid_data_2022 = covid_data[covid_data['date'] > '2021-12-31']\n",
    "\n",
    "covid_data_2022.head()"
   ]
  },
  {
   "cell_type": "code",
   "execution_count": 5,
   "id": "5532a591",
   "metadata": {},
   "outputs": [
    {
     "name": "stderr",
     "output_type": "stream",
     "text": [
      "/var/folders/q7/c9bgzbcx2d3609pccd6322ph0000gn/T/ipykernel_75427/2599951874.py:2: FutureWarning: Indexing with multiple keys (implicitly converted to a tuple of keys) will be deprecated, use a list instead.\n",
      "  covid_data_2022_by_date = covid_data_2022.groupby('date')['cases', 'deaths'].sum().reset_index()\n"
     ]
    },
    {
     "data": {
      "text/html": [
       "<div>\n",
       "<style scoped>\n",
       "    .dataframe tbody tr th:only-of-type {\n",
       "        vertical-align: middle;\n",
       "    }\n",
       "\n",
       "    .dataframe tbody tr th {\n",
       "        vertical-align: top;\n",
       "    }\n",
       "\n",
       "    .dataframe thead th {\n",
       "        text-align: right;\n",
       "    }\n",
       "</style>\n",
       "<table border=\"1\" class=\"dataframe\">\n",
       "  <thead>\n",
       "    <tr style=\"text-align: right;\">\n",
       "      <th></th>\n",
       "      <th>date</th>\n",
       "      <th>cases</th>\n",
       "      <th>deaths</th>\n",
       "    </tr>\n",
       "  </thead>\n",
       "  <tbody>\n",
       "    <tr>\n",
       "      <th>0</th>\n",
       "      <td>2022-01-01</td>\n",
       "      <td>54850427</td>\n",
       "      <td>824609.0</td>\n",
       "    </tr>\n",
       "    <tr>\n",
       "      <th>1</th>\n",
       "      <td>2022-01-02</td>\n",
       "      <td>55137064</td>\n",
       "      <td>824841.0</td>\n",
       "    </tr>\n",
       "    <tr>\n",
       "      <th>2</th>\n",
       "      <td>2022-01-03</td>\n",
       "      <td>56155999</td>\n",
       "      <td>826491.0</td>\n",
       "    </tr>\n",
       "    <tr>\n",
       "      <th>3</th>\n",
       "      <td>2022-01-04</td>\n",
       "      <td>57041905</td>\n",
       "      <td>828853.0</td>\n",
       "    </tr>\n",
       "    <tr>\n",
       "      <th>4</th>\n",
       "      <td>2022-01-05</td>\n",
       "      <td>57745969</td>\n",
       "      <td>830981.0</td>\n",
       "    </tr>\n",
       "  </tbody>\n",
       "</table>\n",
       "</div>"
      ],
      "text/plain": [
       "         date     cases    deaths\n",
       "0  2022-01-01  54850427  824609.0\n",
       "1  2022-01-02  55137064  824841.0\n",
       "2  2022-01-03  56155999  826491.0\n",
       "3  2022-01-04  57041905  828853.0\n",
       "4  2022-01-05  57745969  830981.0"
      ]
     },
     "execution_count": 5,
     "metadata": {},
     "output_type": "execute_result"
    }
   ],
   "source": [
    "# FIND TOTAL AMOUNT of CASES EACH DAY IN 2022\n",
    "covid_data_2022_by_date = covid_data_2022.groupby('date')['cases', 'deaths'].sum().reset_index()\n",
    "covid_data_2022_by_date.astype({'cases': int, 'deaths': int})\n",
    "\n",
    "covid_data_2022_by_date.head()"
   ]
  },
  {
   "cell_type": "code",
   "execution_count": 11,
   "id": "4bac0733",
   "metadata": {},
   "outputs": [
    {
     "name": "stderr",
     "output_type": "stream",
     "text": [
      "/var/folders/q7/c9bgzbcx2d3609pccd6322ph0000gn/T/ipykernel_75427/3389970430.py:2: FutureWarning: Support for multi-dimensional indexing (e.g. `obj[:, None]`) is deprecated and will be removed in a future version.  Convert to a numpy array before indexing instead.\n",
      "  x = pd.Series(range(1, len(covid_data_2022_by_date['date']) + 1))[:, np.newaxis]\n"
     ]
    }
   ],
   "source": [
    "# ASSIGN EACH DATE a VALUE, STARTING with the INITIAL DATE at 1\n",
    "x = pd.Series(range(1, len(covid_data_2022_by_date['date']) + 1))[:, np.newaxis]\n",
    "\n",
    "y_cases = covid_data_2022_by_date['cases']\n",
    "y_deaths = covid_data_2022_by_date['deaths']"
   ]
  },
  {
   "cell_type": "code",
   "execution_count": 12,
   "id": "3bc801ad",
   "metadata": {},
   "outputs": [
    {
     "data": {
      "text/plain": [
       "<matplotlib.collections.PathCollection at 0x7f8e4f3e0640>"
      ]
     },
     "execution_count": 12,
     "metadata": {},
     "output_type": "execute_result"
    },
    {
     "data": {
      "image/png": "[encoded data removed]",
      "text/plain": [
       "<Figure size 432x288 with 1 Axes>"
      ]
     },
     "metadata": {
      "needs_background": "light"
     },
     "output_type": "display_data"
    }
   ],
   "source": [
    "# SCATTER PLOT of COVID CASES IN 2022\n",
    "\n",
    "plt.scatter(x, y_cases) # Ln(x), NATURAL LOG"
   ]
  },
  {
   "cell_type": "code",
   "execution_count": 14,
   "id": "9b2d076e",
   "metadata": {},
   "outputs": [
    {
     "name": "stdout",
     "output_type": "stream",
     "text": [
      "847723.3000683526 [1349.47492884]\n"
     ]
    }
   ],
   "source": [
    "# DETERMINE Y-INTERCEPT and SLOPE FOR COVID DEATHS IN 2022\n",
    "\n",
    "from sklearn.linear_model import LinearRegression\n",
    "model = LinearRegression(fit_intercept = True)\n",
    "\n",
    "model.fit(x, y_deaths)\n",
    "\n",
    "xfit = np.linspace(0, 150, 15)\n",
    "yfit = model.predict(xfit[:, np.newaxis])\n",
    "\n",
    "print(model.intercept_, model.coef_)"
   ]
  },
  {
   "cell_type": "code",
   "execution_count": 15,
   "id": "69cad13f",
   "metadata": {},
   "outputs": [
    {
     "data": {
      "text/plain": [
       "<matplotlib.collections.PathCollection at 0x7f8e4f523280>"
      ]
     },
     "execution_count": 15,
     "metadata": {},
     "output_type": "execute_result"
    },
    {
     "data": {
      "image/png": "[encoded data removed]",
      "text/plain": [
       "<Figure size 432x288 with 1 Axes>"
      ]
     },
     "metadata": {
      "needs_background": "light"
     },
     "output_type": "display_data"
    }
   ],
   "source": [
    "# SCATTER PLOT of COVID DEATHS IN 2022 WITH THE LINE OF BEST FIT\n",
    "\n",
    "plt.plot(xfit, yfit, '--r')\n",
    "plt.scatter(x, y_deaths) "
   ]
  }
 ],
 "metadata": {
  "kernelspec": {
   "display_name": "Python 3 (ipykernel)",
   "language": "python",
   "name": "python3"
  },
  "language_info": {
   "codemirror_mode": {
    "name": "ipython",
    "version": 3
   },
   "file_extension": ".py",
   "mimetype": "text/x-python",
   "name": "python",
   "nbconvert_exporter": "python",
   "pygments_lexer": "ipython3",
   "version": "3.9.12"
  }
 },
 "nbformat": 4,
 "nbformat_minor": 5
}
