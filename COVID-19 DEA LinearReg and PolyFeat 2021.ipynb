{
 "cells": [
  {
   "cell_type": "code",
   "execution_count": 1,
   "id": "19dce4aa",
   "metadata": {},
   "outputs": [],
   "source": [
    "import pandas as pd\n",
    "import numpy as np\n",
    "import matplotlib as mp\n",
    "import matplotlib.pyplot as plt\n",
    "import seaborn as sns\n",
    "%matplotlib inline"
   ]
  },
  {
   "cell_type": "code",
   "execution_count": 2,
   "id": "f5a78b42",
   "metadata": {},
   "outputs": [
    {
     "data": {
      "text/html": [
       "<div>\n",
       "<style scoped>\n",
       "    .dataframe tbody tr th:only-of-type {\n",
       "        vertical-align: middle;\n",
       "    }\n",
       "\n",
       "    .dataframe tbody tr th {\n",
       "        vertical-align: top;\n",
       "    }\n",
       "\n",
       "    .dataframe thead th {\n",
       "        text-align: right;\n",
       "    }\n",
       "</style>\n",
       "<table border=\"1\" class=\"dataframe\">\n",
       "  <thead>\n",
       "    <tr style=\"text-align: right;\">\n",
       "      <th></th>\n",
       "      <th>date</th>\n",
       "      <th>state</th>\n",
       "      <th>cases</th>\n",
       "      <th>deaths</th>\n",
       "    </tr>\n",
       "  </thead>\n",
       "  <tbody>\n",
       "    <tr>\n",
       "      <th>0</th>\n",
       "      <td>2020-01-21</td>\n",
       "      <td>Washington</td>\n",
       "      <td>1</td>\n",
       "      <td>0.0</td>\n",
       "    </tr>\n",
       "    <tr>\n",
       "      <th>1</th>\n",
       "      <td>2020-01-22</td>\n",
       "      <td>Washington</td>\n",
       "      <td>1</td>\n",
       "      <td>0.0</td>\n",
       "    </tr>\n",
       "    <tr>\n",
       "      <th>2</th>\n",
       "      <td>2020-01-23</td>\n",
       "      <td>Washington</td>\n",
       "      <td>1</td>\n",
       "      <td>0.0</td>\n",
       "    </tr>\n",
       "    <tr>\n",
       "      <th>3</th>\n",
       "      <td>2020-01-24</td>\n",
       "      <td>Illinois</td>\n",
       "      <td>1</td>\n",
       "      <td>0.0</td>\n",
       "    </tr>\n",
       "    <tr>\n",
       "      <th>4</th>\n",
       "      <td>2020-01-24</td>\n",
       "      <td>Washington</td>\n",
       "      <td>1</td>\n",
       "      <td>0.0</td>\n",
       "    </tr>\n",
       "  </tbody>\n",
       "</table>\n",
       "</div>"
      ],
      "text/plain": [
       "         date       state  cases  deaths\n",
       "0  2020-01-21  Washington      1     0.0\n",
       "1  2020-01-22  Washington      1     0.0\n",
       "2  2020-01-23  Washington      1     0.0\n",
       "3  2020-01-24    Illinois      1     0.0\n",
       "4  2020-01-24  Washington      1     0.0"
      ]
     },
     "execution_count": 2,
     "metadata": {},
     "output_type": "execute_result"
    }
   ],
   "source": [
    "covid_data = pd.read_csv('https://raw.githubusercontent.com/nytimes/covid-19-data/master/us-counties.csv')\n",
    "\n",
    "covid_data.drop(columns = ['fips', 'county'], inplace = True) # Remove columns fips and county  \n",
    "covid_data.head()"
   ]
  },
  {
   "cell_type": "code",
   "execution_count": 3,
   "id": "85a61c64",
   "metadata": {},
   "outputs": [
    {
     "data": {
      "text/html": [
       "<div>\n",
       "<style scoped>\n",
       "    .dataframe tbody tr th:only-of-type {\n",
       "        vertical-align: middle;\n",
       "    }\n",
       "\n",
       "    .dataframe tbody tr th {\n",
       "        vertical-align: top;\n",
       "    }\n",
       "\n",
       "    .dataframe thead th {\n",
       "        text-align: right;\n",
       "    }\n",
       "</style>\n",
       "<table border=\"1\" class=\"dataframe\">\n",
       "  <thead>\n",
       "    <tr style=\"text-align: right;\">\n",
       "      <th></th>\n",
       "      <th>date</th>\n",
       "      <th>state</th>\n",
       "      <th>cases</th>\n",
       "      <th>deaths</th>\n",
       "    </tr>\n",
       "  </thead>\n",
       "  <tbody>\n",
       "    <tr>\n",
       "      <th>884737</th>\n",
       "      <td>2021-01-01</td>\n",
       "      <td>Alabama</td>\n",
       "      <td>4239</td>\n",
       "      <td>50.0</td>\n",
       "    </tr>\n",
       "    <tr>\n",
       "      <th>884738</th>\n",
       "      <td>2021-01-01</td>\n",
       "      <td>Alabama</td>\n",
       "      <td>13823</td>\n",
       "      <td>169.0</td>\n",
       "    </tr>\n",
       "    <tr>\n",
       "      <th>884739</th>\n",
       "      <td>2021-01-01</td>\n",
       "      <td>Alabama</td>\n",
       "      <td>1517</td>\n",
       "      <td>33.0</td>\n",
       "    </tr>\n",
       "    <tr>\n",
       "      <th>884740</th>\n",
       "      <td>2021-01-01</td>\n",
       "      <td>Alabama</td>\n",
       "      <td>1854</td>\n",
       "      <td>46.0</td>\n",
       "    </tr>\n",
       "    <tr>\n",
       "      <th>884741</th>\n",
       "      <td>2021-01-01</td>\n",
       "      <td>Alabama</td>\n",
       "      <td>4693</td>\n",
       "      <td>63.0</td>\n",
       "    </tr>\n",
       "  </tbody>\n",
       "</table>\n",
       "</div>"
      ],
      "text/plain": [
       "              date    state  cases  deaths\n",
       "884737  2021-01-01  Alabama   4239    50.0\n",
       "884738  2021-01-01  Alabama  13823   169.0\n",
       "884739  2021-01-01  Alabama   1517    33.0\n",
       "884740  2021-01-01  Alabama   1854    46.0\n",
       "884741  2021-01-01  Alabama   4693    63.0"
      ]
     },
     "execution_count": 3,
     "metadata": {},
     "output_type": "execute_result"
    }
   ],
   "source": [
    "# RETRIEVE COVID-19 DATA from 2021-01 to 2021-12-31\n",
    "covid_data_2021 = covid_data[(covid_data['date'] < '2022-01-01') & (covid_data['date'] > '2020-12-31')]\n",
    "\n",
    "covid_data_2021.head()"
   ]
  },
  {
   "cell_type": "code",
   "execution_count": 4,
   "id": "92d83b82",
   "metadata": {},
   "outputs": [
    {
     "name": "stderr",
     "output_type": "stream",
     "text": [
      "/var/folders/q7/c9bgzbcx2d3609pccd6322ph0000gn/T/ipykernel_75422/1985686686.py:2: FutureWarning: Indexing with multiple keys (implicitly converted to a tuple of keys) will be deprecated, use a list instead.\n",
      "  covid_data_2021_by_date = covid_data_2021.groupby('date')['cases', 'deaths'].sum().reset_index()\n"
     ]
    },
    {
     "data": {
      "text/html": [
       "<div>\n",
       "<style scoped>\n",
       "    .dataframe tbody tr th:only-of-type {\n",
       "        vertical-align: middle;\n",
       "    }\n",
       "\n",
       "    .dataframe tbody tr th {\n",
       "        vertical-align: top;\n",
       "    }\n",
       "\n",
       "    .dataframe thead th {\n",
       "        text-align: right;\n",
       "    }\n",
       "</style>\n",
       "<table border=\"1\" class=\"dataframe\">\n",
       "  <thead>\n",
       "    <tr style=\"text-align: right;\">\n",
       "      <th></th>\n",
       "      <th>date</th>\n",
       "      <th>cases</th>\n",
       "      <th>deaths</th>\n",
       "    </tr>\n",
       "  </thead>\n",
       "  <tbody>\n",
       "    <tr>\n",
       "      <th>0</th>\n",
       "      <td>2021-01-01</td>\n",
       "      <td>20172049</td>\n",
       "      <td>347970.0</td>\n",
       "    </tr>\n",
       "    <tr>\n",
       "      <th>1</th>\n",
       "      <td>2021-01-02</td>\n",
       "      <td>20463659</td>\n",
       "      <td>350343.0</td>\n",
       "    </tr>\n",
       "    <tr>\n",
       "      <th>2</th>\n",
       "      <td>2021-01-03</td>\n",
       "      <td>20665439</td>\n",
       "      <td>351694.0</td>\n",
       "    </tr>\n",
       "    <tr>\n",
       "      <th>3</th>\n",
       "      <td>2021-01-04</td>\n",
       "      <td>20917269</td>\n",
       "      <td>353743.0</td>\n",
       "    </tr>\n",
       "    <tr>\n",
       "      <th>4</th>\n",
       "      <td>2021-01-05</td>\n",
       "      <td>21152285</td>\n",
       "      <td>357432.0</td>\n",
       "    </tr>\n",
       "  </tbody>\n",
       "</table>\n",
       "</div>"
      ],
      "text/plain": [
       "         date     cases    deaths\n",
       "0  2021-01-01  20172049  347970.0\n",
       "1  2021-01-02  20463659  350343.0\n",
       "2  2021-01-03  20665439  351694.0\n",
       "3  2021-01-04  20917269  353743.0\n",
       "4  2021-01-05  21152285  357432.0"
      ]
     },
     "execution_count": 4,
     "metadata": {},
     "output_type": "execute_result"
    }
   ],
   "source": [
    "# FIND TOTAL AMOUNT of CASES EACH DAY IN 2021\n",
    "covid_data_2021_by_date = covid_data_2021.groupby('date')['cases', 'deaths'].sum().reset_index()\n",
    "covid_data_2021_by_date.astype({'cases': int, 'deaths': int})\n",
    "\n",
    "covid_data_2021_by_date.head()"
   ]
  },
  {
   "cell_type": "code",
   "execution_count": 5,
   "id": "51609d78",
   "metadata": {
    "scrolled": true
   },
   "outputs": [
    {
     "name": "stderr",
     "output_type": "stream",
     "text": [
      "/var/folders/q7/c9bgzbcx2d3609pccd6322ph0000gn/T/ipykernel_75422/3811471065.py:2: FutureWarning: Support for multi-dimensional indexing (e.g. `obj[:, None]`) is deprecated and will be removed in a future version.  Convert to a numpy array before indexing instead.\n",
      "  x = pd.Series(range(1, len(covid_data_2021_by_date['date']) + 1))[:, np.newaxis]\n"
     ]
    }
   ],
   "source": [
    "# ASSIGN EACH DATE a VALUE, STARTING with the INITIAL DATE at 1\n",
    "x = pd.Series(range(1, len(covid_data_2021_by_date['date']) + 1))[:, np.newaxis]\n",
    "\n",
    "y_cases = covid_data_2021_by_date['cases']\n",
    "y_deaths = covid_data_2021_by_date['deaths']"
   ]
  },
  {
   "cell_type": "code",
   "execution_count": 6,
   "id": "1efba4e6",
   "metadata": {},
   "outputs": [
    {
     "data": {
      "text/plain": [
       "<matplotlib.collections.PathCollection at 0x7faa87460cd0>"
      ]
     },
     "execution_count": 6,
     "metadata": {},
     "output_type": "execute_result"
    },
    {
     "data": {
      "image/png": "[encoded data removed]",
      "text/plain": [
       "<Figure size 432x288 with 1 Axes>"
      ]
     },
     "metadata": {
      "needs_background": "light"
     },
     "output_type": "display_data"
    }
   ],
   "source": [
    "# SCATTER PLOT of COVID CASES IN 2021\n",
    "plt.scatter(x, y_cases)"
   ]
  },
  {
   "cell_type": "code",
   "execution_count": 8,
   "id": "0b2c8e8f",
   "metadata": {},
   "outputs": [
    {
     "data": {
      "text/plain": [
       "-0.5579122837236938"
      ]
     },
     "execution_count": 8,
     "metadata": {},
     "output_type": "execute_result"
    }
   ],
   "source": [
    "from sklearn.linear_model import LinearRegression\n",
    "\n",
    "# CREATING LINEAR MODEL FOR COVID CASES IN 2021\n",
    "model = LinearRegression(fit_intercept = True)\n",
    "\n",
    "from sklearn.model_selection import cross_val_score\n",
    "\n",
    "scores = cross_val_score(model, x, y_cases, cv = 4)\n",
    "scores.mean()\n",
    "\n",
    "# The model is not good fit"
   ]
  },
  {
   "cell_type": "code",
   "execution_count": 9,
   "id": "8022b3eb",
   "metadata": {},
   "outputs": [
    {
     "data": {
      "text/plain": [
       "-0.016876612775877098"
      ]
     },
     "execution_count": 9,
     "metadata": {},
     "output_type": "execute_result"
    }
   ],
   "source": [
    "# LINEAR REGRESSION MODEL FOR COVID DEATHS IN 2021\n",
    "model = LinearRegression(fit_intercept = True)\n",
    "\n",
    "# IMPLEMENTING a 2 FOLD CROSS VALIDATION and CALCULATING THE MEAN ACCURACY SCORE\n",
    "scores = cross_val_score(model, x, y_deaths, cv = 2)\n",
    "scores.mean()"
   ]
  },
  {
   "cell_type": "code",
   "execution_count": 10,
   "id": "808f7abb",
   "metadata": {},
   "outputs": [
    {
     "name": "stdout",
     "output_type": "stream",
     "text": [
      "423895.7153545085 [1036.98031133]\n"
     ]
    }
   ],
   "source": [
    "# DETERMINE Y-INTERCEPT and SLOPE FOR COVID DEATHS IN 2021\n",
    "model.fit(x, y_deaths)\n",
    "\n",
    "xfit = np.linspace(0, 350, 35)\n",
    "yfit = model.predict(xfit[:, np.newaxis])\n",
    "\n",
    "print(model.intercept_, model.coef_)"
   ]
  },
  {
   "cell_type": "code",
   "execution_count": 11,
   "id": "3609c4b2",
   "metadata": {},
   "outputs": [
    {
     "data": {
      "text/plain": [
       "<matplotlib.collections.PathCollection at 0x7faa5e677610>"
      ]
     },
     "execution_count": 11,
     "metadata": {},
     "output_type": "execute_result"
    },
    {
     "data": {
      "image/png": "[encoded data removed]",
      "text/plain": [
       "<Figure size 432x288 with 1 Axes>"
      ]
     },
     "metadata": {
      "needs_background": "light"
     },
     "output_type": "display_data"
    }
   ],
   "source": [
    "# SCATTER PLOT of COVID DEATHS IN 2021 WITH THE LINE OF BEST FIT\n",
    "\n",
    "plt.plot(xfit, yfit, '--r')\n",
    "plt.scatter(x, y_deaths)"
   ]
  }
 ],
 "metadata": {
  "kernelspec": {
   "display_name": "Python 3 (ipykernel)",
   "language": "python",
   "name": "python3"
  },
  "language_info": {
   "codemirror_mode": {
    "name": "ipython",
    "version": 3
   },
   "file_extension": ".py",
   "mimetype": "text/x-python",
   "name": "python",
   "nbconvert_exporter": "python",
   "pygments_lexer": "ipython3",
   "version": "3.9.12"
  }
 },
 "nbformat": 4,
 "nbformat_minor": 5
}
