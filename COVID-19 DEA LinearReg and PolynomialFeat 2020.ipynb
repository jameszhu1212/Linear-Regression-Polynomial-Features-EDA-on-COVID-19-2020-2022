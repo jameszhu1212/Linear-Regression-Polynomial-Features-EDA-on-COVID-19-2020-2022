{
 "cells": [
  {
   "cell_type": "code",
   "execution_count": 1,
   "id": "851ed5f0",
   "metadata": {},
   "outputs": [],
   "source": [
    "import pandas as pd\n",
    "import numpy as np\n",
    "import matplotlib as mp\n",
    "import matplotlib.pyplot as plt\n",
    "import seaborn as sns\n",
    "%matplotlib inline"
   ]
  },
  {
   "cell_type": "code",
   "execution_count": 3,
   "id": "b0b2655f",
   "metadata": {
    "scrolled": true
   },
   "outputs": [
    {
     "data": {
      "text/html": [
       "<div>\n",
       "<style scoped>\n",
       "    .dataframe tbody tr th:only-of-type {\n",
       "        vertical-align: middle;\n",
       "    }\n",
       "\n",
       "    .dataframe tbody tr th {\n",
       "        vertical-align: top;\n",
       "    }\n",
       "\n",
       "    .dataframe thead th {\n",
       "        text-align: right;\n",
       "    }\n",
       "</style>\n",
       "<table border=\"1\" class=\"dataframe\">\n",
       "  <thead>\n",
       "    <tr style=\"text-align: right;\">\n",
       "      <th></th>\n",
       "      <th>date</th>\n",
       "      <th>state</th>\n",
       "      <th>cases</th>\n",
       "      <th>deaths</th>\n",
       "    </tr>\n",
       "  </thead>\n",
       "  <tbody>\n",
       "    <tr>\n",
       "      <th>0</th>\n",
       "      <td>2020-01-21</td>\n",
       "      <td>Washington</td>\n",
       "      <td>1</td>\n",
       "      <td>0.0</td>\n",
       "    </tr>\n",
       "    <tr>\n",
       "      <th>1</th>\n",
       "      <td>2020-01-22</td>\n",
       "      <td>Washington</td>\n",
       "      <td>1</td>\n",
       "      <td>0.0</td>\n",
       "    </tr>\n",
       "    <tr>\n",
       "      <th>2</th>\n",
       "      <td>2020-01-23</td>\n",
       "      <td>Washington</td>\n",
       "      <td>1</td>\n",
       "      <td>0.0</td>\n",
       "    </tr>\n",
       "    <tr>\n",
       "      <th>3</th>\n",
       "      <td>2020-01-24</td>\n",
       "      <td>Illinois</td>\n",
       "      <td>1</td>\n",
       "      <td>0.0</td>\n",
       "    </tr>\n",
       "    <tr>\n",
       "      <th>4</th>\n",
       "      <td>2020-01-24</td>\n",
       "      <td>Washington</td>\n",
       "      <td>1</td>\n",
       "      <td>0.0</td>\n",
       "    </tr>\n",
       "  </tbody>\n",
       "</table>\n",
       "</div>"
      ],
      "text/plain": [
       "         date       state  cases  deaths\n",
       "0  2020-01-21  Washington      1     0.0\n",
       "1  2020-01-22  Washington      1     0.0\n",
       "2  2020-01-23  Washington      1     0.0\n",
       "3  2020-01-24    Illinois      1     0.0\n",
       "4  2020-01-24  Washington      1     0.0"
      ]
     },
     "execution_count": 3,
     "metadata": {},
     "output_type": "execute_result"
    }
   ],
   "source": [
    "covid_data = pd.read_csv('https://raw.githubusercontent.com/nytimes/covid-19-data/master/us-counties.csv')\n",
    "\n",
    "covid_data.drop(columns = ['fips', 'county'], inplace = True) # Remove columns fips and county  \n",
    "covid_data.head()"
   ]
  },
  {
   "cell_type": "code",
   "execution_count": 409,
   "id": "0d8ec949",
   "metadata": {
    "scrolled": true
   },
   "outputs": [
    {
     "data": {
      "text/plain": [
       "False"
      ]
     },
     "execution_count": 409,
     "metadata": {},
     "output_type": "execute_result"
    }
   ],
   "source": [
    "covid_data.columns.isnull().any() # Check if there are any empty cells"
   ]
  },
  {
   "cell_type": "code",
   "execution_count": 5,
   "id": "b2532dc4",
   "metadata": {
    "scrolled": true
   },
   "outputs": [
    {
     "data": {
      "text/plain": [
       "(884737, 4)"
      ]
     },
     "execution_count": 5,
     "metadata": {},
     "output_type": "execute_result"
    }
   ],
   "source": [
    "# RETRIEVE COVID-19 DATA from 2020-01 to 2020-12-31\n",
    "covid_data_2020 = covid_data[covid_data['date'] < '2021-01-01'] \n",
    "\n",
    "covid_data_2020.head()"
   ]
  },
  {
   "cell_type": "code",
   "execution_count": 6,
   "id": "dff9d3ca",
   "metadata": {
    "scrolled": false
   },
   "outputs": [
    {
     "name": "stderr",
     "output_type": "stream",
     "text": [
      "/var/folders/q7/c9bgzbcx2d3609pccd6322ph0000gn/T/ipykernel_75413/1411962897.py:1: FutureWarning: Indexing with multiple keys (implicitly converted to a tuple of keys) will be deprecated, use a list instead.\n",
      "  covid_data_2020_by_date = covid_data_2020.groupby('date')['cases', 'deaths'].sum().reset_index()\n"
     ]
    },
    {
     "data": {
      "text/html": [
       "<div>\n",
       "<style scoped>\n",
       "    .dataframe tbody tr th:only-of-type {\n",
       "        vertical-align: middle;\n",
       "    }\n",
       "\n",
       "    .dataframe tbody tr th {\n",
       "        vertical-align: top;\n",
       "    }\n",
       "\n",
       "    .dataframe thead th {\n",
       "        text-align: right;\n",
       "    }\n",
       "</style>\n",
       "<table border=\"1\" class=\"dataframe\">\n",
       "  <thead>\n",
       "    <tr style=\"text-align: right;\">\n",
       "      <th></th>\n",
       "      <th>date</th>\n",
       "      <th>cases</th>\n",
       "      <th>deaths</th>\n",
       "    </tr>\n",
       "  </thead>\n",
       "  <tbody>\n",
       "    <tr>\n",
       "      <th>0</th>\n",
       "      <td>2020-01-21</td>\n",
       "      <td>1</td>\n",
       "      <td>0.0</td>\n",
       "    </tr>\n",
       "    <tr>\n",
       "      <th>1</th>\n",
       "      <td>2020-01-22</td>\n",
       "      <td>1</td>\n",
       "      <td>0.0</td>\n",
       "    </tr>\n",
       "    <tr>\n",
       "      <th>2</th>\n",
       "      <td>2020-01-23</td>\n",
       "      <td>1</td>\n",
       "      <td>0.0</td>\n",
       "    </tr>\n",
       "    <tr>\n",
       "      <th>3</th>\n",
       "      <td>2020-01-24</td>\n",
       "      <td>2</td>\n",
       "      <td>0.0</td>\n",
       "    </tr>\n",
       "    <tr>\n",
       "      <th>4</th>\n",
       "      <td>2020-01-25</td>\n",
       "      <td>3</td>\n",
       "      <td>0.0</td>\n",
       "    </tr>\n",
       "  </tbody>\n",
       "</table>\n",
       "</div>"
      ],
      "text/plain": [
       "         date  cases  deaths\n",
       "0  2020-01-21      1     0.0\n",
       "1  2020-01-22      1     0.0\n",
       "2  2020-01-23      1     0.0\n",
       "3  2020-01-24      2     0.0\n",
       "4  2020-01-25      3     0.0"
      ]
     },
     "execution_count": 6,
     "metadata": {},
     "output_type": "execute_result"
    }
   ],
   "source": [
    "# FIND TOTAL AMOUNT of CASES EACH DAY IN 2020\n",
    "covid_data_2020_by_date = covid_data_2020.groupby('date')['cases', 'deaths'].sum().reset_index()\n",
    "covid_data_2020_by_date.astype({'cases': int, 'deaths': int})\n",
    "covid_data_2020_by_date.head()"
   ]
  },
  {
   "cell_type": "code",
   "execution_count": 9,
   "id": "c0855680",
   "metadata": {
    "scrolled": true
   },
   "outputs": [
    {
     "name": "stderr",
     "output_type": "stream",
     "text": [
      "/var/folders/q7/c9bgzbcx2d3609pccd6322ph0000gn/T/ipykernel_75413/3020094338.py:2: FutureWarning: Support for multi-dimensional indexing (e.g. `obj[:, None]`) is deprecated and will be removed in a future version.  Convert to a numpy array before indexing instead.\n",
      "  x = pd.Series(range(1, len(covid_data_2020_by_date['date']) + 1))[:, np.newaxis]\n"
     ]
    }
   ],
   "source": [
    "# ASSIGN EACH DATE a VALUE, STARTING with the INITIAL DATE at 1\n",
    "x = pd.Series(range(1, len(covid_data_2020_by_date['date']) + 1))[:, np.newaxis] \n",
    "\n",
    "\n",
    "y_cases = covid_data_2020_by_date['cases']\n",
    "y_deaths = covid_data_2020_by_date['deaths']"
   ]
  },
  {
   "cell_type": "code",
   "execution_count": 12,
   "id": "eede70f4",
   "metadata": {
    "scrolled": true
   },
   "outputs": [
    {
     "data": {
      "text/plain": [
       "<matplotlib.collections.PathCollection at 0x7fce56a45c10>"
      ]
     },
     "execution_count": 12,
     "metadata": {},
     "output_type": "execute_result"
    },
    {
     "data": {
      "image/png": "[encoded data removed]",
      "text/plain": [
       "<Figure size 432x288 with 1 Axes>"
      ]
     },
     "metadata": {
      "needs_background": "light"
     },
     "output_type": "display_data"
    }
   ],
   "source": [
    "# SCATTER PLOT of COVID CASES IN 2020\n",
    "plt.scatter(x, y_cases)"
   ]
  },
  {
   "cell_type": "code",
   "execution_count": 10,
   "id": "4daf1364",
   "metadata": {},
   "outputs": [],
   "source": [
    "# CREATING POLYNOMIAL MODEL FOR COVID CASES IN 2020\n",
    "from sklearn.linear_model import LinearRegression\n",
    "from sklearn.preprocessing import PolynomialFeatures\n",
    "from sklearn.pipeline import make_pipeline\n",
    "\n",
    "# Create a polynomial model\n",
    "poly_model = make_pipeline(PolynomialFeatures(2), LinearRegression(fit_intercept = True))"
   ]
  },
  {
   "cell_type": "code",
   "execution_count": 11,
   "id": "e231e8e8",
   "metadata": {},
   "outputs": [
    {
     "data": {
      "text/plain": [
       "-27.160318675786158"
      ]
     },
     "execution_count": 11,
     "metadata": {},
     "output_type": "execute_result"
    }
   ],
   "source": [
    "from sklearn.model_selection import cross_val_score\n",
    "\n",
    "# IMPLEMENTING a 3 FOLD CROSS VALIDATION and CALCULATING THE MEAN ACCURACY SCORE\n",
    "scores = cross_val_score(poly_model, x, y_cases, cv = 3)\n",
    "scores.mean()"
   ]
  },
  {
   "cell_type": "code",
   "execution_count": 14,
   "id": "0da8a1a0",
   "metadata": {},
   "outputs": [
    {
     "data": {
      "text/plain": [
       "0.887479145740167"
      ]
     },
     "execution_count": 14,
     "metadata": {},
     "output_type": "execute_result"
    }
   ],
   "source": [
    "# LINEAR REGRESSION MODEL FOR COVID DEATHS IN 2020\n",
    "model = LinearRegression(fit_intercept = True) # Create a linear regression model\n",
    "\n",
    "scores = cross_val_score(model, x, y_deaths, cv = 2) # Use two-fold cross validation and determining its mean value\n",
    "scores.mean()\n",
    "\n",
    "# Model is good"
   ]
  },
  {
   "cell_type": "code",
   "execution_count": 15,
   "id": "85b1372b",
   "metadata": {},
   "outputs": [
    {
     "name": "stdout",
     "output_type": "stream",
     "text": [
      "-36318.22573510936 [982.49056495]\n"
     ]
    }
   ],
   "source": [
    "# DETERMINE Y-INTERCEPT and SLOPE FOR COVID DEATHS IN 2020\n",
    "model.fit(x, y_deaths)\n",
    "\n",
    "xfit = np.linspace(0, 350, 35)\n",
    "yfit = model.predict(xfit[:, np.newaxis])\n",
    "\n",
    "print(model.intercept_, model.coef_)"
   ]
  },
  {
   "cell_type": "code",
   "execution_count": 467,
   "id": "11a48dd6",
   "metadata": {},
   "outputs": [
    {
     "data": {
      "text/plain": [
       "<matplotlib.collections.PathCollection at 0x7fb23feb4160>"
      ]
     },
     "execution_count": 467,
     "metadata": {},
     "output_type": "execute_result"
    },
    {
     "data": {
      "image/png": "[encoded data removed]",
      "text/plain": [
       "<Figure size 432x288 with 1 Axes>"
      ]
     },
     "metadata": {
      "needs_background": "light"
     },
     "output_type": "display_data"
    }
   ],
   "source": [
    "# SCATTER PLOT of COVID DEATHS IN 2020 WITH THE LINE OF BEST FIT\n",
    "\n",
    "plt.plot(xfit, yfit, '--r')\n",
    "plt.scatter(x, y_deaths)"
   ]
  }
 ],
 "metadata": {
  "kernelspec": {
   "display_name": "Python 3 (ipykernel)",
   "language": "python",
   "name": "python3"
  },
  "language_info": {
   "codemirror_mode": {
    "name": "ipython",
    "version": 3
   },
   "file_extension": ".py",
   "mimetype": "text/x-python",
   "name": "python",
   "nbconvert_exporter": "python",
   "pygments_lexer": "ipython3",
   "version": "3.9.12"
  }
 },
 "nbformat": 4,
 "nbformat_minor": 5
}
